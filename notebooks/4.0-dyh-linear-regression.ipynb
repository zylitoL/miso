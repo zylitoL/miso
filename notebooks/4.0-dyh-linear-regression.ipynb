{
 "cells": [
  {
   "cell_type": "code",
   "execution_count": 1,
   "outputs": [],
   "source": [
    "import pandas as pd\n",
    "from sklearn.linear_model import LinearRegression\n",
    "from sklearn.ensemble import RandomForestRegressor\n",
    "from sklearn.model_selection import train_test_split\n",
    "from sklearn.metrics import mean_squared_error\n",
    "import numpy as np\n",
    "\n",
    "sales = pd.read_csv('../data/processed/US_EV_SalesData.csv')\n",
    "\n",
    "socioeconomic = pd.read_csv('../data/processed/state_year.csv')\n",
    "socioeconomic['Stations Opened'] = socioeconomic['Stations Opened'].fillna(value=0)\n",
    "\n",
    "data = pd.merge(sales, socioeconomic)\n",
    "data = data[data['Year'] < 2020]\n",
    "\n",
    "PREDICTORS = ['Gasoline Price', 'Median Income', 'Population', 'Renewable Energy Use', 'Total Energy Use', 'Transportation Energy Use', 'Stations Opened']\n",
    "RESPONSES = ['BEV sales', 'PHEV sales', 'Total']\n",
    "\n",
    "all_scores = {'State': data['State'].unique(), 'OLS': [], 'Log-log': [], 'Random forest': []}"
   ],
   "metadata": {
    "collapsed": false,
    "pycharm": {
     "name": "#%%\n"
    }
   }
  },
  {
   "cell_type": "code",
   "execution_count": 2,
   "outputs": [],
   "source": [
    "for state in data['State'].unique():\n",
    "    scores = []\n",
    "\n",
    "    for lo in data['Year'].unique():\n",
    "        hi = lo + 5\n",
    "        if hi > data['Year'].max():\n",
    "            break\n",
    "\n",
    "        subset = data[(data['State'] == state) & (lo <= data['Year']) & (data['Year'] < hi)]\n",
    "        train, test = train_test_split(subset, test_size=0.4, shuffle=False)\n",
    "\n",
    "        for response in RESPONSES:\n",
    "            mod = LinearRegression().fit(train[PREDICTORS], train[[response]])\n",
    "            predict = mod.predict(test[PREDICTORS])\n",
    "\n",
    "            scores.append(np.sqrt(mean_squared_error(test[[response]], predict)))\n",
    "\n",
    "    all_scores['OLS'].append(sum(scores) / len(scores))"
   ],
   "metadata": {
    "collapsed": false,
    "pycharm": {
     "name": "#%%\n"
    }
   }
  },
  {
   "cell_type": "code",
   "execution_count": 3,
   "outputs": [],
   "source": [
    "lndata = pd.DataFrame()\n",
    "for c in data.columns:\n",
    "    if c in PREDICTORS or c in RESPONSES: lndata[c] = np.log(data[c] + 1)\n",
    "    else: lndata[c] = data[c]\n",
    "\n",
    "for state in lndata['State'].unique():\n",
    "    scores = []\n",
    "\n",
    "    for lo in lndata['Year'].unique():\n",
    "        hi = lo + 5\n",
    "        if hi > lndata['Year'].max():\n",
    "            break\n",
    "\n",
    "        subset = lndata[(lndata['State'] == state) & (lo <= lndata['Year']) & (lndata['Year'] < hi)]\n",
    "        train, test = train_test_split(subset, test_size=0.4, shuffle=False)\n",
    "\n",
    "        for response in RESPONSES:\n",
    "            mod = LinearRegression().fit(train[PREDICTORS], train[[response]])\n",
    "            predict = mod.predict(test[PREDICTORS])\n",
    "\n",
    "            scores.append(np.sqrt(mean_squared_error(np.exp(test[[response]]), np.exp(predict))))\n",
    "\n",
    "    all_scores['Log-log'].append(sum(scores) / len(scores))"
   ],
   "metadata": {
    "collapsed": false,
    "pycharm": {
     "name": "#%%\n"
    }
   }
  },
  {
   "cell_type": "code",
   "execution_count": 4,
   "outputs": [],
   "source": [
    "for state in data['State'].unique():\n",
    "    scores = []\n",
    "\n",
    "    for lo in data['Year'].unique():\n",
    "        hi = lo + 5\n",
    "        if hi > data['Year'].max():\n",
    "            break\n",
    "\n",
    "        subset = data[(data['State'] == state) & (lo <= data['Year']) & (data['Year'] < hi)]\n",
    "        train, test = train_test_split(subset, test_size=0.4, shuffle=False)\n",
    "\n",
    "        for response in RESPONSES:\n",
    "            mod = RandomForestRegressor().fit(train[PREDICTORS], train[[response]].values.ravel())\n",
    "            predict = mod.predict(test[PREDICTORS])\n",
    "\n",
    "            scores.append(np.sqrt(mean_squared_error(test[[response]], predict)))\n",
    "\n",
    "    all_scores['Random forest'].append(sum(scores) / len(scores))"
   ],
   "metadata": {
    "collapsed": false,
    "pycharm": {
     "name": "#%%\n"
    }
   }
  },
  {
   "cell_type": "code",
   "execution_count": 5,
   "outputs": [
    {
     "data": {
      "text/plain": "   State          OLS       Log-log  Random forest\n0     AR    64.255108   3404.030519      62.471818\n1     IL  1374.660530   1768.247111    1005.995133\n2     IN   362.189262    669.529191     258.560132\n3     IA   175.064717    176.375701     118.264527\n4     LA    89.103259    289.526923      91.106953\n5     MI  1352.237636   1917.817098     534.181909\n6     MN  1132.458482  12716.302472     481.133473\n7     MS    44.414951     60.793449      36.921054\n8     MO   349.320394    442.888912     340.461332\n9     ND    24.232970     18.926241      12.238954\n10    WI   812.999096    458.984361     459.063657\n11    AL   209.647344    148.442418     127.507407\n12    KY    93.821466    189.603241     112.628494\n13    SD    29.703371     24.089993      20.545480\n14    TX  1552.077303   2403.937826    1606.183347",
      "text/html": "<div>\n<style scoped>\n    .dataframe tbody tr th:only-of-type {\n        vertical-align: middle;\n    }\n\n    .dataframe tbody tr th {\n        vertical-align: top;\n    }\n\n    .dataframe thead th {\n        text-align: right;\n    }\n</style>\n<table border=\"1\" class=\"dataframe\">\n  <thead>\n    <tr style=\"text-align: right;\">\n      <th></th>\n      <th>State</th>\n      <th>OLS</th>\n      <th>Log-log</th>\n      <th>Random forest</th>\n    </tr>\n  </thead>\n  <tbody>\n    <tr>\n      <th>0</th>\n      <td>AR</td>\n      <td>64.255108</td>\n      <td>3404.030519</td>\n      <td>62.471818</td>\n    </tr>\n    <tr>\n      <th>1</th>\n      <td>IL</td>\n      <td>1374.660530</td>\n      <td>1768.247111</td>\n      <td>1005.995133</td>\n    </tr>\n    <tr>\n      <th>2</th>\n      <td>IN</td>\n      <td>362.189262</td>\n      <td>669.529191</td>\n      <td>258.560132</td>\n    </tr>\n    <tr>\n      <th>3</th>\n      <td>IA</td>\n      <td>175.064717</td>\n      <td>176.375701</td>\n      <td>118.264527</td>\n    </tr>\n    <tr>\n      <th>4</th>\n      <td>LA</td>\n      <td>89.103259</td>\n      <td>289.526923</td>\n      <td>91.106953</td>\n    </tr>\n    <tr>\n      <th>5</th>\n      <td>MI</td>\n      <td>1352.237636</td>\n      <td>1917.817098</td>\n      <td>534.181909</td>\n    </tr>\n    <tr>\n      <th>6</th>\n      <td>MN</td>\n      <td>1132.458482</td>\n      <td>12716.302472</td>\n      <td>481.133473</td>\n    </tr>\n    <tr>\n      <th>7</th>\n      <td>MS</td>\n      <td>44.414951</td>\n      <td>60.793449</td>\n      <td>36.921054</td>\n    </tr>\n    <tr>\n      <th>8</th>\n      <td>MO</td>\n      <td>349.320394</td>\n      <td>442.888912</td>\n      <td>340.461332</td>\n    </tr>\n    <tr>\n      <th>9</th>\n      <td>ND</td>\n      <td>24.232970</td>\n      <td>18.926241</td>\n      <td>12.238954</td>\n    </tr>\n    <tr>\n      <th>10</th>\n      <td>WI</td>\n      <td>812.999096</td>\n      <td>458.984361</td>\n      <td>459.063657</td>\n    </tr>\n    <tr>\n      <th>11</th>\n      <td>AL</td>\n      <td>209.647344</td>\n      <td>148.442418</td>\n      <td>127.507407</td>\n    </tr>\n    <tr>\n      <th>12</th>\n      <td>KY</td>\n      <td>93.821466</td>\n      <td>189.603241</td>\n      <td>112.628494</td>\n    </tr>\n    <tr>\n      <th>13</th>\n      <td>SD</td>\n      <td>29.703371</td>\n      <td>24.089993</td>\n      <td>20.545480</td>\n    </tr>\n    <tr>\n      <th>14</th>\n      <td>TX</td>\n      <td>1552.077303</td>\n      <td>2403.937826</td>\n      <td>1606.183347</td>\n    </tr>\n  </tbody>\n</table>\n</div>"
     },
     "execution_count": 5,
     "metadata": {},
     "output_type": "execute_result"
    }
   ],
   "source": [
    "pd.DataFrame.from_dict(all_scores)"
   ],
   "metadata": {
    "collapsed": false,
    "pycharm": {
     "name": "#%%\n"
    }
   }
  }
 ],
 "metadata": {
  "kernelspec": {
   "display_name": "Python 3",
   "language": "python",
   "name": "python3"
  },
  "language_info": {
   "codemirror_mode": {
    "name": "ipython",
    "version": 2
   },
   "file_extension": ".py",
   "mimetype": "text/x-python",
   "name": "python",
   "nbconvert_exporter": "python",
   "pygments_lexer": "ipython2",
   "version": "2.7.6"
  }
 },
 "nbformat": 4,
 "nbformat_minor": 0
}