{
 "cells": [
  {
   "cell_type": "code",
   "execution_count": 1,
   "outputs": [],
   "source": [
    "import pandas as pd\n",
    "from sklearn.linear_model import LinearRegression\n",
    "from sklearn.ensemble import RandomForestRegressor\n",
    "from sklearn.model_selection import train_test_split\n",
    "from sklearn.metrics import mean_squared_error\n",
    "import numpy as np\n",
    "\n",
    "sales = pd.read_csv('../data/processed/US_EV_SalesData.csv')\n",
    "\n",
    "socioeconomic = pd.read_csv('../data/processed/state_year.csv')\n",
    "socioeconomic['Stations Opened'] = socioeconomic['Stations Opened'].fillna(value=0)\n",
    "\n",
    "data = pd.merge(sales, socioeconomic)\n",
    "data = data[data['Year'] < 2020]\n",
    "\n",
    "\n",
    "li_price = pd.read_csv('../data/processed/li_price.csv')\n",
    "li_price.index = li_price['Year']\n",
    "li_price = li_price.drop(columns=['Year'])\n",
    "li_price = li_price.to_dict()['Price']\n",
    "\n",
    "data['Li Battery Price'] = data['Year'].map(li_price)\n",
    "\n",
    "PREDICTORS = ['Gasoline Price', 'Median Income', 'Population', 'Renewable Energy Use', 'Transportation Energy Use', 'Stations Opened']#, 'Li Battery Price']\n",
    "RESPONSES = ['BEV sales', 'PHEV sales', 'Total']\n",
    "\n",
    "MODELS = ['OLS', 'Log-log', 'Random forest']\n",
    "\n",
    "all_scores = {'State': data['State'].unique(),\n",
    "              **{model: [] for model in MODELS}}\n",
    "predictions = {model: {year: 0 for year in data['Year'].unique()}\\\n",
    "               for model in MODELS}"
   ],
   "metadata": {
    "collapsed": false,
    "pycharm": {
     "name": "#%%\n"
    }
   }
  },
  {
   "cell_type": "code",
   "execution_count": 2,
   "outputs": [
    {
     "data": {
      "text/plain": "   Gasoline Price  Median Income    Population  Renewable Energy Use  \\\n0         30.3884   30577.753414  5.753169e+06         212921.150928   \n1         31.2668   29663.397830  5.766317e+06         218361.814856   \n\n   Transportation Energy Use  Stations Opened  Year State  \n0              412955.791667        -3.732961  2014    WI  \n1              409613.375000        24.755029  2015    WI  ",
      "text/html": "<div>\n<style scoped>\n    .dataframe tbody tr th:only-of-type {\n        vertical-align: middle;\n    }\n\n    .dataframe tbody tr th {\n        vertical-align: top;\n    }\n\n    .dataframe thead th {\n        text-align: right;\n    }\n</style>\n<table border=\"1\" class=\"dataframe\">\n  <thead>\n    <tr style=\"text-align: right;\">\n      <th></th>\n      <th>Gasoline Price</th>\n      <th>Median Income</th>\n      <th>Population</th>\n      <th>Renewable Energy Use</th>\n      <th>Transportation Energy Use</th>\n      <th>Stations Opened</th>\n      <th>Year</th>\n      <th>State</th>\n    </tr>\n  </thead>\n  <tbody>\n    <tr>\n      <th>0</th>\n      <td>30.3884</td>\n      <td>30577.753414</td>\n      <td>5.753169e+06</td>\n      <td>212921.150928</td>\n      <td>412955.791667</td>\n      <td>-3.732961</td>\n      <td>2014</td>\n      <td>WI</td>\n    </tr>\n    <tr>\n      <th>1</th>\n      <td>31.2668</td>\n      <td>29663.397830</td>\n      <td>5.766317e+06</td>\n      <td>218361.814856</td>\n      <td>409613.375000</td>\n      <td>24.755029</td>\n      <td>2015</td>\n      <td>WI</td>\n    </tr>\n  </tbody>\n</table>\n</div>"
     },
     "execution_count": 2,
     "metadata": {},
     "output_type": "execute_result"
    }
   ],
   "source": [
    "fresh_data = pd.read_csv('../data/interim/socioeconomic_min_aicc_results.csv')\n",
    "fresh_data = fresh_data.set_index(['Year', 'State', 'Prediction Years Out', 'Attribute'])\n",
    "fresh_data = fresh_data[['Prediction']]\n",
    "fresh_data = fresh_data.to_dict()['Prediction']\n",
    "# print(fresh_data)\n",
    "def gen_data(base_year, state, lookahead):\n",
    "    d = {factor: [fresh_data[(base_year + i, state, i, factor)]\n",
    "                  for i in range(1, lookahead + 1)]\n",
    "         for factor in PREDICTORS}\n",
    "    d['Year'] = [base_year + i for i in range(1, lookahead + 1)]\n",
    "    df = pd.DataFrame(d)\n",
    "    df['State'] = state\n",
    "    return df\n",
    "\n",
    "gen_data(2013, 'WI', 2)"
   ],
   "metadata": {
    "collapsed": false,
    "pycharm": {
     "name": "#%%\n"
    }
   }
  },
  {
   "cell_type": "markdown",
   "source": [
    "## Ordinary Least Squares Linear Regression"
   ],
   "metadata": {
    "collapsed": false
   }
  },
  {
   "cell_type": "code",
   "execution_count": 32,
   "outputs": [
    {
     "name": "stdout",
     "output_type": "stream",
     "text": [
      "0.26364296796959424 * Gasoline Price\n",
      "0.019505316414549032 * Median Income\n",
      "0.09439832924278785 * Population\n",
      "0.4216678633962331 * Renewable Energy Use\n",
      "-0.9802492023693147 * Transportation Energy Use\n",
      "-0.007518506264027199 * Stations Opened\n"
     ]
    }
   ],
   "source": [
    "coef = None\n",
    "for state in data['State'].unique():\n",
    "    scores = []\n",
    "\n",
    "    for lo in data['Year'].unique():\n",
    "        hi = lo + 5\n",
    "        if hi > data['Year'].max():\n",
    "            break\n",
    "\n",
    "        subset = data[(data['State'] == state) & (lo <= data['Year']) & (data['Year'] < hi)]\n",
    "        train, test = train_test_split(subset, test_size=0.4, shuffle=False)\n",
    "\n",
    "        for response in RESPONSES:\n",
    "            mod = LinearRegression().fit(train[PREDICTORS], train[[response]])\n",
    "            new = gen_data(lo + 2, state, 2)\n",
    "            predict = mod.predict(new[PREDICTORS])\n",
    "\n",
    "            if coef is None:\n",
    "                coef = mod.coef_\n",
    "            else:\n",
    "                coef += mod.coef_\n",
    "\n",
    "            scores.append(np.sqrt(mean_squared_error(test[response], predict)))\n",
    "\n",
    "            if response == 'Total':\n",
    "                new = gen_data(lo + 2, state, 1)\n",
    "                predictions['OLS'][lo + 3] += mod.predict(test[PREDICTORS])[0][0]\n",
    "\n",
    "    all_scores['OLS'].append(sum(scores) / len(scores))\n",
    "\n",
    "# train, _ = train_test_split(data[(2011 <= data['Year']) & (data['Year'] < 2015)])\n",
    "# mod = LinearRegression().fit(train[PREDICTORS], train['Total'])\n",
    "\n",
    "for c, x in zip(coef[0], PREDICTORS):\n",
    "    print(f\"{c} * {x}\")"
   ],
   "metadata": {
    "collapsed": false,
    "pycharm": {
     "name": "#%%\n"
    }
   }
  },
  {
   "cell_type": "markdown",
   "source": [
    "## Power Regression"
   ],
   "metadata": {
    "collapsed": false
   }
  },
  {
   "cell_type": "markdown",
   "source": [],
   "metadata": {
    "collapsed": false
   }
  },
  {
   "cell_type": "code",
   "execution_count": 33,
   "outputs": [
    {
     "name": "stdout",
     "output_type": "stream",
     "text": [
      "200.46088973978544 * ln(Gasoline Price)\n",
      "-483.7599743869185 * ln(Median Income)\n",
      "-2.056698265399458 * ln(Population)\n",
      "-95.57741060932874 * ln(Renewable Energy Use)\n",
      "-385.4770378368685 * ln(Transportation Energy Use)\n",
      "-0.5419609621861065 * ln(Stations Opened)\n"
     ]
    }
   ],
   "source": [
    "coef = None\n",
    "lndata = pd.DataFrame()\n",
    "for c in data.columns:\n",
    "    if c in PREDICTORS or c in RESPONSES: lndata[c] = np.log(data[c] + 5)\n",
    "    else: lndata[c] = data[c]\n",
    "\n",
    "for state in data['State'].unique():\n",
    "    scores = []\n",
    "\n",
    "    for lo in data['Year'].unique():\n",
    "        hi = lo + 5\n",
    "        if hi > data['Year'].max():\n",
    "            break\n",
    "\n",
    "        subset = lndata[(lndata['State'] == state) & (lo <= lndata['Year']) & (lndata['Year'] < hi)]\n",
    "        train, test = train_test_split(subset, test_size=0.4, shuffle=False)\n",
    "        # print(len(train), len(test))\n",
    "        for response in RESPONSES:\n",
    "            mod = LinearRegression().fit(train[PREDICTORS], train[[response]])\n",
    "\n",
    "            if coef is None:\n",
    "                coef = mod.coef_\n",
    "            else:\n",
    "                coef += mod.coef_\n",
    "\n",
    "            new = gen_data(lo + 2, state, 2)\n",
    "            ln_new = pd.DataFrame()\n",
    "            for c in new.columns:\n",
    "                if c in PREDICTORS or c in RESPONSES: ln_new[c] = np.log(new[c] + 5)\n",
    "                else: ln_new[c] = new[c]\n",
    "            predict = mod.predict(ln_new[PREDICTORS])\n",
    "\n",
    "            scores.append(np.sqrt(mean_squared_error(\n",
    "                np.exp(test[response]) - 5, np.exp(predict)\n",
    "            )))\n",
    "\n",
    "            if response == 'Total':\n",
    "                predictions['Log-log'][lo + 3] += np.exp(mod.predict(test[PREDICTORS]))[0][0]\n",
    "\n",
    "    all_scores['Log-log'].append(sum(scores) / len(scores))\n",
    "\n",
    "for c, x in zip(coef[0], PREDICTORS):\n",
    "    print(f\"{c} * ln({x})\")"
   ],
   "metadata": {
    "collapsed": false,
    "pycharm": {
     "name": "#%%\n"
    }
   }
  },
  {
   "cell_type": "markdown",
   "source": [
    "## Random Forest Regression"
   ],
   "metadata": {
    "collapsed": false
   }
  },
  {
   "cell_type": "code",
   "execution_count": 36,
   "outputs": [
    {
     "name": "stdout",
     "output_type": "stream",
     "text": [
      "30.12017602083088: Gasoline Price)\n",
      "30.314445120629983: Median Income)\n",
      "30.181393558909654: Population)\n",
      "29.323589656749686: Renewable Energy Use)\n",
      "31.07047842871593: Transportation Energy Use)\n",
      "28.989917214163825: Stations Opened)\n"
     ]
    }
   ],
   "source": [
    "coef = None\n",
    "for state in data['State'].unique():\n",
    "    scores = []\n",
    "\n",
    "    for lo in data['Year'].unique():\n",
    "        hi = lo + 5\n",
    "        if hi > data['Year'].max():\n",
    "            break\n",
    "\n",
    "        subset = data[(data['State'] == state) & (lo <= data['Year']) & (data['Year'] < hi)]\n",
    "        train, test = train_test_split(subset, test_size=0.4, shuffle=False)\n",
    "\n",
    "        for response in RESPONSES:\n",
    "            mod = RandomForestRegressor().fit(train[PREDICTORS], train[[response]].values.ravel())\n",
    "\n",
    "            if coef is None:\n",
    "                coef = mod.feature_importances_\n",
    "            else:\n",
    "                coef += mod.feature_importances_\n",
    "\n",
    "            new = gen_data(lo + 2, state, 2)\n",
    "            predict = mod.predict(new[PREDICTORS])\n",
    "            scores.append(np.sqrt(mean_squared_error(test[response], predict)))\n",
    "\n",
    "            if response == 'Total':\n",
    "                test = gen_data(lo + 2, state, 1)\n",
    "                predictions['Random forest'][lo + 3] += mod.predict(test[PREDICTORS])[0]\n",
    "\n",
    "    all_scores['Random forest'].append(sum(scores) / len(scores))\n",
    "\n",
    "for c, x in zip(coef, PREDICTORS):\n",
    "    print(f\"{c}: {x})\")"
   ],
   "metadata": {
    "collapsed": false,
    "pycharm": {
     "name": "#%%\n"
    }
   }
  },
  {
   "cell_type": "markdown",
   "source": [
    "## Per-State root-mean-squared-loss"
   ],
   "metadata": {
    "collapsed": false
   }
  },
  {
   "cell_type": "code",
   "execution_count": 6,
   "outputs": [
    {
     "data": {
      "text/plain": "   State          OLS      Log-log  Random forest\n0     AR    70.422977    74.310263      62.372545\n1     IL  1069.874792  3762.143974     984.564364\n2     IN   277.946101   773.766642     254.729688\n3     IA   156.563279   416.569304     117.325692\n4     LA   108.514765    79.699978      88.225899\n5     MI  1071.585606  1035.830665     511.060350\n6     MN  1080.653163  2297.608190     468.087962\n7     MS    42.378883    71.519984      37.366327\n8     MO   228.372112   308.071488     315.846050\n9     ND    13.500916     8.118926      11.992765\n10    WI   512.232429   443.289029     440.309106\n11    AL   171.580200  4633.623339     117.022052\n12    KY    92.823037   303.323429     109.822939\n13    SD    42.146079    23.241726      20.693832\n14    TX  1639.468292  2414.405005    1632.627839",
      "text/html": "<div>\n<style scoped>\n    .dataframe tbody tr th:only-of-type {\n        vertical-align: middle;\n    }\n\n    .dataframe tbody tr th {\n        vertical-align: top;\n    }\n\n    .dataframe thead th {\n        text-align: right;\n    }\n</style>\n<table border=\"1\" class=\"dataframe\">\n  <thead>\n    <tr style=\"text-align: right;\">\n      <th></th>\n      <th>State</th>\n      <th>OLS</th>\n      <th>Log-log</th>\n      <th>Random forest</th>\n    </tr>\n  </thead>\n  <tbody>\n    <tr>\n      <th>0</th>\n      <td>AR</td>\n      <td>70.422977</td>\n      <td>74.310263</td>\n      <td>62.372545</td>\n    </tr>\n    <tr>\n      <th>1</th>\n      <td>IL</td>\n      <td>1069.874792</td>\n      <td>3762.143974</td>\n      <td>984.564364</td>\n    </tr>\n    <tr>\n      <th>2</th>\n      <td>IN</td>\n      <td>277.946101</td>\n      <td>773.766642</td>\n      <td>254.729688</td>\n    </tr>\n    <tr>\n      <th>3</th>\n      <td>IA</td>\n      <td>156.563279</td>\n      <td>416.569304</td>\n      <td>117.325692</td>\n    </tr>\n    <tr>\n      <th>4</th>\n      <td>LA</td>\n      <td>108.514765</td>\n      <td>79.699978</td>\n      <td>88.225899</td>\n    </tr>\n    <tr>\n      <th>5</th>\n      <td>MI</td>\n      <td>1071.585606</td>\n      <td>1035.830665</td>\n      <td>511.060350</td>\n    </tr>\n    <tr>\n      <th>6</th>\n      <td>MN</td>\n      <td>1080.653163</td>\n      <td>2297.608190</td>\n      <td>468.087962</td>\n    </tr>\n    <tr>\n      <th>7</th>\n      <td>MS</td>\n      <td>42.378883</td>\n      <td>71.519984</td>\n      <td>37.366327</td>\n    </tr>\n    <tr>\n      <th>8</th>\n      <td>MO</td>\n      <td>228.372112</td>\n      <td>308.071488</td>\n      <td>315.846050</td>\n    </tr>\n    <tr>\n      <th>9</th>\n      <td>ND</td>\n      <td>13.500916</td>\n      <td>8.118926</td>\n      <td>11.992765</td>\n    </tr>\n    <tr>\n      <th>10</th>\n      <td>WI</td>\n      <td>512.232429</td>\n      <td>443.289029</td>\n      <td>440.309106</td>\n    </tr>\n    <tr>\n      <th>11</th>\n      <td>AL</td>\n      <td>171.580200</td>\n      <td>4633.623339</td>\n      <td>117.022052</td>\n    </tr>\n    <tr>\n      <th>12</th>\n      <td>KY</td>\n      <td>92.823037</td>\n      <td>303.323429</td>\n      <td>109.822939</td>\n    </tr>\n    <tr>\n      <th>13</th>\n      <td>SD</td>\n      <td>42.146079</td>\n      <td>23.241726</td>\n      <td>20.693832</td>\n    </tr>\n    <tr>\n      <th>14</th>\n      <td>TX</td>\n      <td>1639.468292</td>\n      <td>2414.405005</td>\n      <td>1632.627839</td>\n    </tr>\n  </tbody>\n</table>\n</div>"
     },
     "execution_count": 6,
     "metadata": {},
     "output_type": "execute_result"
    }
   ],
   "source": [
    "pd.DataFrame.from_dict(all_scores)"
   ],
   "metadata": {
    "collapsed": false,
    "pycharm": {
     "name": "#%%\n"
    }
   }
  },
  {
   "cell_type": "markdown",
   "source": [
    "## Aggregate predictions vs. True predictions"
   ],
   "metadata": {
    "collapsed": false
   }
  },
  {
   "cell_type": "code",
   "execution_count": 7,
   "outputs": [
    {
     "data": {
      "text/plain": "      Total           OLS       Log-log  Random forest\nYear                                                  \n2014  12355  14328.503579  11069.815724        9238.29\n2015  10744  11904.744705  15790.417882       11446.55\n2016  15527   9232.319754  12955.960981       11025.27\n2017  18920  20890.859503  15633.252564       14263.63",
      "text/html": "<div>\n<style scoped>\n    .dataframe tbody tr th:only-of-type {\n        vertical-align: middle;\n    }\n\n    .dataframe tbody tr th {\n        vertical-align: top;\n    }\n\n    .dataframe thead th {\n        text-align: right;\n    }\n</style>\n<table border=\"1\" class=\"dataframe\">\n  <thead>\n    <tr style=\"text-align: right;\">\n      <th></th>\n      <th>Total</th>\n      <th>OLS</th>\n      <th>Log-log</th>\n      <th>Random forest</th>\n    </tr>\n    <tr>\n      <th>Year</th>\n      <th></th>\n      <th></th>\n      <th></th>\n      <th></th>\n    </tr>\n  </thead>\n  <tbody>\n    <tr>\n      <th>2014</th>\n      <td>12355</td>\n      <td>14328.503579</td>\n      <td>11069.815724</td>\n      <td>9238.29</td>\n    </tr>\n    <tr>\n      <th>2015</th>\n      <td>10744</td>\n      <td>11904.744705</td>\n      <td>15790.417882</td>\n      <td>11446.55</td>\n    </tr>\n    <tr>\n      <th>2016</th>\n      <td>15527</td>\n      <td>9232.319754</td>\n      <td>12955.960981</td>\n      <td>11025.27</td>\n    </tr>\n    <tr>\n      <th>2017</th>\n      <td>18920</td>\n      <td>20890.859503</td>\n      <td>15633.252564</td>\n      <td>14263.63</td>\n    </tr>\n  </tbody>\n</table>\n</div>"
     },
     "execution_count": 7,
     "metadata": {},
     "output_type": "execute_result"
    }
   ],
   "source": [
    "total_sales = data[['Year', 'Total']]\n",
    "total_sales = pd.pivot_table(total_sales, values='Total', index='Year', aggfunc=np.sum)\n",
    "result = pd.merge(left=total_sales, right=pd.DataFrame(predictions), left_index=True, right_index=True)\n",
    "result = result[result['OLS'] != 0.0]\n",
    "result"
   ],
   "metadata": {
    "collapsed": false,
    "pycharm": {
     "name": "#%%\n"
    }
   }
  },
  {
   "cell_type": "code",
   "execution_count": 18,
   "outputs": [],
   "source": [
    "result['OLS Error'] = np.abs(result['OLS'] - result['Total'])\n",
    "result['LL Error'] = np.abs(result['Log-log'] - result['Total'])\n",
    "result['RF Error'] = np.abs(result['Random forest'] - result['Total'])"
   ],
   "metadata": {
    "collapsed": false,
    "pycharm": {
     "name": "#%%\n"
    }
   }
  },
  {
   "cell_type": "code",
   "execution_count": 21,
   "outputs": [
    {
     "data": {
      "text/plain": "OLS Error    11399.788033\nLL Error     12189.388613\nRF Error     12977.360000\ndtype: float64"
     },
     "execution_count": 21,
     "metadata": {},
     "output_type": "execute_result"
    }
   ],
   "source": [
    "result[['OLS Error', 'LL Error', 'RF Error']].sum()"
   ],
   "metadata": {
    "collapsed": false,
    "pycharm": {
     "name": "#%%\n"
    }
   }
  },
  {
   "cell_type": "code",
   "execution_count": 8,
   "outputs": [
    {
     "data": {
      "text/plain": "<AxesSubplot:xlabel='Year'>"
     },
     "execution_count": 8,
     "metadata": {},
     "output_type": "execute_result"
    },
    {
     "data": {
      "text/plain": "<Figure size 432x288 with 1 Axes>",
      "image/png": "[encoded data removed]"
     },
     "metadata": {
      "needs_background": "light"
     },
     "output_type": "display_data"
    }
   ],
   "source": [
    "result.plot.line()"
   ],
   "metadata": {
    "collapsed": false,
    "pycharm": {
     "name": "#%%\n"
    }
   }
  }
 ],
 "metadata": {
  "kernelspec": {
   "display_name": "Python 3",
   "language": "python",
   "name": "python3"
  },
  "language_info": {
   "codemirror_mode": {
    "name": "ipython",
    "version": 2
   },
   "file_extension": ".py",
   "mimetype": "text/x-python",
   "name": "python",
   "nbconvert_exporter": "python",
   "pygments_lexer": "ipython2",
   "version": "2.7.6"
  }
 },
 "nbformat": 4,
 "nbformat_minor": 0
}